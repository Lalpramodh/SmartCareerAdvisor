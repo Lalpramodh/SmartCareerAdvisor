{
  "nbformat": 4,
  "nbformat_minor": 0,
  "metadata": {
    "colab": {
      "provenance": []
    },
    "kernelspec": {
      "name": "python3",
      "display_name": "Python 3"
    },
    "language_info": {
      "name": "python"
    }
  },
  "cells": [
    {
      "cell_type": "code",
      "execution_count": null,
      "metadata": {
        "id": "PNhaz37T_LDY",
        "colab": {
          "base_uri": "https://localhost:8080/"
        },
        "outputId": "3c556345-0886-4ee2-bb97-2e38681ba87b"
      },
      "outputs": [
        {
          "output_type": "stream",
          "name": "stdout",
          "text": [
            "Test Accuracy: 0.7029\n",
            "\n",
            "Classification Report:\n",
            "                       precision    recall  f1-score   support\n",
            "\n",
            "     Business Analyst       0.76      0.67      0.71        51\n",
            "       Cloud Engineer       0.85      0.83      0.84        47\n",
            "Cybersecurity Analyst       0.56      0.44      0.49        55\n",
            "         Data Analyst       0.84      0.84      0.84        61\n",
            "        Data Engineer       0.35      0.33      0.34        51\n",
            "          Design & UX       0.74      0.74      0.74        57\n",
            " Full Stack Developer       0.88      0.98      0.93        47\n",
            "           IT Auditor       0.76      0.97      0.85        38\n",
            "   IT Project Manager       0.76      0.71      0.73        52\n",
            "IT Support Specialist       0.73      0.63      0.68        52\n",
            "     Mobile Developer       0.88      0.92      0.90        49\n",
            "          QA Engineer       0.76      0.71      0.74        49\n",
            "    Software Engineer       0.22      0.28      0.25        46\n",
            " System Administrator       0.81      0.87      0.84        45\n",
            "\n",
            "             accuracy                           0.70       700\n",
            "            macro avg       0.71      0.71      0.70       700\n",
            "         weighted avg       0.71      0.70      0.70       700\n",
            "\n"
          ]
        }
      ],
      "source": [
        "import pandas as pd\n",
        "import numpy as np\n",
        "import pickle\n",
        "from sklearn.model_selection import train_test_split\n",
        "from sklearn.ensemble import RandomForestClassifier\n",
        "from sklearn.metrics import accuracy_score, classification_report\n",
        "from sklearn.preprocessing import LabelEncoder, StandardScaler\n",
        "from imblearn.over_sampling import SMOTE  # For handling class imbalance\n",
        "\n",
        "# Load dataset\n",
        "file_path = \"dataset.csv\"\n",
        "df = pd.read_csv(file_path)\n",
        "\n",
        "# Define target variable\n",
        "target_column = 'Suggested Job Role'\n",
        "\n",
        "# Split dataset into features and target\n",
        "X = df.drop(columns=[target_column])  # Features\n",
        "y = df[target_column]  # Target labels\n",
        "\n",
        "# Encode target labels\n",
        "label_encoder = LabelEncoder()\n",
        "y_encoded = label_encoder.fit_transform(y)\n",
        "\n",
        "# Feature scaling (Standardize)\n",
        "scaler = StandardScaler()\n",
        "X_scaled = scaler.fit_transform(X)\n",
        "\n",
        "# Handle class imbalance using SMOTE\n",
        "smote = SMOTE(sampling_strategy='auto', random_state=42)\n",
        "X_resampled, y_resampled = smote.fit_resample(X_scaled, y_encoded)\n",
        "\n",
        "# Train-Test Split\n",
        "X_train, X_test, y_train, y_test = train_test_split(X_resampled, y_resampled, test_size=0.2, random_state=42)\n",
        "\n",
        "# Hyperparameter tuning for Random Forest\n",
        "rf_model = RandomForestClassifier(n_estimators=500, max_depth=15, min_samples_split=5, random_state=42)\n",
        "\n",
        "# Train the model\n",
        "rf_model.fit(X_train, y_train)\n",
        "\n",
        "# Predict on test data\n",
        "y_pred = rf_model.predict(X_test)\n",
        "\n",
        "# Evaluate the model\n",
        "accuracy = accuracy_score(y_test, y_pred)\n",
        "print(f\"Test Accuracy: {accuracy:.4f}\")\n",
        "\n",
        "# Display classification report\n",
        "print(\"\\nClassification Report:\")\n",
        "print(classification_report(y_test, y_pred, target_names=label_encoder.classes_))\n",
        "\n",
        "# Save model as a pickle file\n",
        "with open(\"model.pkl\", \"wb\") as model_file:\n",
        "    pickle.dump(rf_model, model_file)\n",
        "\n",
        "# Save label encoder\n",
        "with open(\"label_encoder.pkl\", \"wb\") as le_file:\n",
        "    pickle.dump(label_encoder, le_file)\n",
        "\n",
        "# Save scaler\n",
        "with open(\"scaler.pkl\", \"wb\") as scaler_file:\n",
        "    pickle.dump(scaler, scaler_file)"
      ]
    }
  ]
}